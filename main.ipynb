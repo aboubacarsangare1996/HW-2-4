{
 "cells": [
  {
   "cell_type": "markdown",
   "source": [
    "Импорт библиотек"
   ],
   "metadata": {
    "collapsed": false,
    "pycharm": {
     "name": "#%% md\n"
    }
   }
  },
  {
   "cell_type": "code",
   "execution_count": 1,
   "outputs": [],
   "source": [
    "import pandas as pd\n",
    "import psycopg2\n",
    "from datetime import datetime, timedelta\n",
    "\n",
    "import it4fin_functions as it4fin # мои функции выделенные в отдельный модуль"
   ],
   "metadata": {
    "collapsed": false,
    "pycharm": {
     "name": "#%%\n"
    }
   }
  },
  {
   "cell_type": "code",
   "execution_count": 2,
   "outputs": [],
   "source": [
    "# настройка для pandas для отображения всех строк и колонок\n",
    "pd.set_option('display.max_columns', None)\n",
    "pd.set_option('display.max_rows', None)"
   ],
   "metadata": {
    "collapsed": false,
    "pycharm": {
     "name": "#%%\n"
    }
   }
  },
  {
   "cell_type": "markdown",
   "source": [
    "Создание соединения с базой данных"
   ],
   "metadata": {
    "collapsed": false,
    "pycharm": {
     "name": "#%% md\n"
    }
   }
  },
  {
   "cell_type": "code",
   "execution_count": 3,
   "outputs": [
    {
     "name": "stdout",
     "output_type": "stream",
     "text": [
      "{'user': 'postgres', 'channel_binding': 'prefer', 'dbname': 'postgres', 'host': 'localhost', 'port': '5432', 'options': '', 'sslmode': 'prefer', 'sslcompression': '0', 'sslsni': '1', 'ssl_min_protocol_version': 'TLSv1.2', 'gssencmode': 'disable', 'krbsrvname': 'postgres', 'target_session_attrs': 'any'}\n"
     ]
    },
    {
     "data": {
      "text/plain": "      no security_code buysell  order_no  action   price  volume trade_no  \\\n0  36431          RSTI       S     23291       1  0.4562   40000     None   \n\n  trade_price       order_time  \n0        None  10:00:24.718000  ",
      "text/html": "<div>\n<style scoped>\n    .dataframe tbody tr th:only-of-type {\n        vertical-align: middle;\n    }\n\n    .dataframe tbody tr th {\n        vertical-align: top;\n    }\n\n    .dataframe thead th {\n        text-align: right;\n    }\n</style>\n<table border=\"1\" class=\"dataframe\">\n  <thead>\n    <tr style=\"text-align: right;\">\n      <th></th>\n      <th>no</th>\n      <th>security_code</th>\n      <th>buysell</th>\n      <th>order_no</th>\n      <th>action</th>\n      <th>price</th>\n      <th>volume</th>\n      <th>trade_no</th>\n      <th>trade_price</th>\n      <th>order_time</th>\n    </tr>\n  </thead>\n  <tbody>\n    <tr>\n      <th>0</th>\n      <td>36431</td>\n      <td>RSTI</td>\n      <td>S</td>\n      <td>23291</td>\n      <td>1</td>\n      <td>0.4562</td>\n      <td>40000</td>\n      <td>None</td>\n      <td>None</td>\n      <td>10:00:24.718000</td>\n    </tr>\n  </tbody>\n</table>\n</div>"
     },
     "execution_count": 3,
     "metadata": {},
     "output_type": "execute_result"
    }
   ],
   "source": [
    "cnxn = psycopg2.connect(user='postgres',\n",
    "                        database='postgres',\n",
    "                        host='localhost',\n",
    "                        port='5432',\n",
    "                        password='12345')\n",
    "print(cnxn.get_dsn_parameters())\n",
    "\n",
    "# проверочный запрос\n",
    "pd.read_sql_query(\"SELECT * FROM stock_orders LIMIT 1\", cnxn)"
   ],
   "metadata": {
    "collapsed": false,
    "pycharm": {
     "name": "#%%\n"
    }
   }
  },
  {
   "cell_type": "code",
   "execution_count": 4,
   "outputs": [],
   "source": [
    "def get_spread_series(cnxn, security_code, end_time, start_time=None, freq=None):\n",
    "    '''\n",
    "    Основная функция для выполнения Д/З\n",
    "\n",
    "    P.S. Для больших интервалов считает долго, поэтому лучше не задавать интервал 2 часа и частоту 1000ms - будет считать около часа\n",
    "    Можно еще через pandas делать, вырезая сначала таблицу между для основного временного интервала,\n",
    "    но я боялся потенциальной ошибки OUT OF MEMORY\n",
    "\n",
    "    :param cnxn: соединение с базой данных\n",
    "    :param security_code: тикер для ценной бумаги, например, 'AFLT'\n",
    "    :param start_time: (optional) начало временного интервала, в формате 'HH:MI:SS.mss'\n",
    "    :param end_time: конец временного интервала в том же формате\n",
    "    :param freq: (optional), частота в миллисекундах\n",
    "\n",
    "    :returns: `DataFrame`, определяющий биржевой стакан для ценной бумаги (buy volume - price - sell volume) и бид аск спред как `int` в слyчае заданы только `end_time` и `security_code` . Если, в добавок, даны `start_time` и `freq` то так же возвращает `Series` бид-аск спредов для временного интервала между `start_time` и `end_time`\n",
    "\n",
    "    '''\n",
    "\n",
    "    # считываем шаблон запроса для получения таблицы\n",
    "    with open('template_get_remaining_volumes.sql', 'r', encoding='utf-8') as f:\n",
    "        get_remaining_volumes = f.read()\n",
    "\n",
    "    # печатаем полученные на вход аргументы\n",
    "    print(security_code, start_time, end_time)\n",
    "\n",
    "    # дальше ветка: если нет start_time или частота нулевая\n",
    "    if start_time is None or freq is None or freq == 0:\n",
    "        # то формируем запрос на получение таблицы заявок до времени end_time и выполняем его\n",
    "        query = get_remaining_volumes.format(security_code = security_code,\n",
    "                                             time1 = '0:00:00',\n",
    "                                             time2 = end_time)\n",
    "        raw = pd.read_sql_query(query, cnxn)\n",
    "\n",
    "        # превращаем эту таблицу в стакан\n",
    "        dom, bid, ask = it4fin.get_dom_from_raw(raw)\n",
    "        # возвращаем бид-аск спред и стакан\n",
    "        return (ask - bid) * 2 / (ask + bid), dom\n",
    "\n",
    "    # теперь когда заданы все аргументы\n",
    "    # проверяем то как задан формат времени\n",
    "    if '.' in start_time:\n",
    "        stime = datetime.strptime(start_time, '%H:%M:%S.%f')\n",
    "    else:\n",
    "        stime = datetime.strptime(start_time, '%H:%M:%S')\n",
    "\n",
    "    if '.' in end_time:\n",
    "        etime = datetime.strptime(end_time, '%H:%M:%S.%f')\n",
    "    else:\n",
    "        etime = datetime.strptime(end_time, '%H:%M:%S')\n",
    "\n",
    "    # создаём массивы для времени и спредов\n",
    "    times, spreads = [], []\n",
    "\n",
    "    query = get_remaining_volumes.format(security_code = security_code,\n",
    "                                         time1 = '0:00:00',\n",
    "                                         time2 = start_time)\n",
    "    new_raw = pd.read_sql_query(query, cnxn)\n",
    "    dom, bid, ask = it4fin.get_dom_from_raw(new_raw)\n",
    "\n",
    "    # добавляем в массивы координаты\n",
    "    times.append(stime.strftime('%H:%M:%S.%f'))\n",
    "    spreads.append((ask - bid) * 2 / (ask + bid))\n",
    "\n",
    "    while True:\n",
    "        time1 = stime\n",
    "        time2 = stime + timedelta(milliseconds=freq)\n",
    "        if time2 > etime:\n",
    "            time2 = etime\n",
    "\n",
    "        # print(time1.strftime('%H:%M:%S.%f'), time2.strftime('%H:%M:%S.%f'))\n",
    "        query = get_remaining_volumes.format(security_code = security_code,\n",
    "                                             time1 = time1.strftime('%H:%M:%S.%f'),\n",
    "                                             time2 = time2.strftime('%H:%M:%S.%f'))\n",
    "\n",
    "        raw1 = new_raw\n",
    "        raw2 = pd.read_sql_query(query, cnxn)\n",
    "\n",
    "        if not raw2.empty:\n",
    "            new_raw = pd.concat([raw1, raw2], axis=0, ignore_index=True).\\\n",
    "                groupby(by=[\"buysell\", \"order_no\", \"price\"], as_index=False).sum()\n",
    "\n",
    "            dom, bid, ask = it4fin.get_dom_from_raw(new_raw)\n",
    "            spreads.append((ask - bid) * 2 / (ask + bid))\n",
    "        else:\n",
    "            new_raw = raw1\n",
    "            spreads.append(spreads[-1])\n",
    "\n",
    "        stime = time2\n",
    "        times.append(stime.strftime('%H:%M:%S.%f'))\n",
    "\n",
    "        if stime == etime:\n",
    "            return pd.Series(data=spreads, index=times), dom"
   ],
   "metadata": {
    "collapsed": false,
    "pycharm": {
     "name": "#%%\n"
    }
   }
  },
  {
   "cell_type": "code",
   "execution_count": 5,
   "outputs": [
    {
     "name": "stdout",
     "output_type": "stream",
     "text": [
      "YNDX None 13:00:00\n"
     ]
    },
    {
     "data": {
      "text/plain": "0.0014926028359454285"
     },
     "metadata": {},
     "output_type": "display_data"
    },
    {
     "data": {
      "text/plain": "          buy   sell\nprice               \n1222.9    0.0  100.0\n1190.3    0.0    2.0\n1189.0    0.0    2.0\n1173.6    0.0   10.0\n1160.0    0.0   50.0\n1156.2    0.0    3.0\n1152.7    0.0    2.0\n1150.5    0.0    1.0\n1150.0    0.0  731.0\n1149.9    0.0  218.0\n1149.7    0.0  159.0\n1149.1    0.0   10.0\n1149.0    0.0   82.0\n1148.3    0.0  170.0\n1148.0    0.0    1.0\n1147.9    0.0   81.0\n1147.8    0.0   23.0\n1147.0    0.0    1.0\n1146.9    0.0    1.0\n1146.0    0.0    1.0\n1145.8    0.0  301.0\n1145.0    0.0   68.0\n1144.9    0.0   67.0\n1144.8    0.0   10.0\n1144.5    0.0  280.0\n1144.4    0.0   50.0\n1144.0    0.0  178.0\n1143.9    0.0   31.0\n1143.0    0.0    1.0\n1142.0    0.0    2.0\n1141.8    0.0   50.0\n1141.5    0.0    1.0\n1141.0    0.0   15.0\n1140.9    0.0    1.0\n1140.0    0.0  193.0\n1139.9    0.0  500.0\n1139.8    0.0   15.0\n1138.1   57.0    0.0\n1138.0  115.0    0.0\n1136.1   40.0    0.0\n1136.0  158.0    0.0\n1134.4    8.0    0.0\n1134.3  532.0    0.0\n1134.2   20.0    0.0\n1134.0   45.0    0.0\n1133.6   56.0    0.0\n1133.5  200.0    0.0\n1133.4  246.0    0.0\n1132.2   50.0    0.0\n1130.5  478.0    0.0\n1130.0  410.0    0.0\n1128.3   10.0    0.0\n1128.2   50.0    0.0\n1128.0    1.0    0.0\n1127.0  100.0    0.0\n1125.1  500.0    0.0\n1125.0   40.0    0.0\n1124.7  122.0    0.0\n1124.2   10.0    0.0\n1124.0  120.0    0.0\n1122.0    1.0    0.0\n1121.5    2.0    0.0\n1120.1  500.0    0.0\n1120.0    1.0    0.0\n1117.3  100.0    0.0\n1117.0    3.0    0.0\n1115.6    1.0    0.0\n1115.1  500.0    0.0\n1115.0   55.0    0.0\n1111.0  100.0    0.0\n1110.1  500.0    0.0\n1110.0  100.0    0.0\n1104.8   19.0    0.0\n1100.0   20.0    0.0\n1090.3    5.0    0.0\n1088.0   63.0    0.0\n1079.1    2.0    0.0\n1071.3   10.0    0.0\n1064.0   55.0    0.0\n1050.1    5.0    0.0\n1049.0   10.0    0.0\n1023.0    1.0    0.0\n1000.0  100.0    0.0",
      "text/html": "<div>\n<style scoped>\n    .dataframe tbody tr th:only-of-type {\n        vertical-align: middle;\n    }\n\n    .dataframe tbody tr th {\n        vertical-align: top;\n    }\n\n    .dataframe thead th {\n        text-align: right;\n    }\n</style>\n<table border=\"1\" class=\"dataframe\">\n  <thead>\n    <tr style=\"text-align: right;\">\n      <th></th>\n      <th>buy</th>\n      <th>sell</th>\n    </tr>\n    <tr>\n      <th>price</th>\n      <th></th>\n      <th></th>\n    </tr>\n  </thead>\n  <tbody>\n    <tr>\n      <th>1222.9</th>\n      <td>0.0</td>\n      <td>100.0</td>\n    </tr>\n    <tr>\n      <th>1190.3</th>\n      <td>0.0</td>\n      <td>2.0</td>\n    </tr>\n    <tr>\n      <th>1189.0</th>\n      <td>0.0</td>\n      <td>2.0</td>\n    </tr>\n    <tr>\n      <th>1173.6</th>\n      <td>0.0</td>\n      <td>10.0</td>\n    </tr>\n    <tr>\n      <th>1160.0</th>\n      <td>0.0</td>\n      <td>50.0</td>\n    </tr>\n    <tr>\n      <th>1156.2</th>\n      <td>0.0</td>\n      <td>3.0</td>\n    </tr>\n    <tr>\n      <th>1152.7</th>\n      <td>0.0</td>\n      <td>2.0</td>\n    </tr>\n    <tr>\n      <th>1150.5</th>\n      <td>0.0</td>\n      <td>1.0</td>\n    </tr>\n    <tr>\n      <th>1150.0</th>\n      <td>0.0</td>\n      <td>731.0</td>\n    </tr>\n    <tr>\n      <th>1149.9</th>\n      <td>0.0</td>\n      <td>218.0</td>\n    </tr>\n    <tr>\n      <th>1149.7</th>\n      <td>0.0</td>\n      <td>159.0</td>\n    </tr>\n    <tr>\n      <th>1149.1</th>\n      <td>0.0</td>\n      <td>10.0</td>\n    </tr>\n    <tr>\n      <th>1149.0</th>\n      <td>0.0</td>\n      <td>82.0</td>\n    </tr>\n    <tr>\n      <th>1148.3</th>\n      <td>0.0</td>\n      <td>170.0</td>\n    </tr>\n    <tr>\n      <th>1148.0</th>\n      <td>0.0</td>\n      <td>1.0</td>\n    </tr>\n    <tr>\n      <th>1147.9</th>\n      <td>0.0</td>\n      <td>81.0</td>\n    </tr>\n    <tr>\n      <th>1147.8</th>\n      <td>0.0</td>\n      <td>23.0</td>\n    </tr>\n    <tr>\n      <th>1147.0</th>\n      <td>0.0</td>\n      <td>1.0</td>\n    </tr>\n    <tr>\n      <th>1146.9</th>\n      <td>0.0</td>\n      <td>1.0</td>\n    </tr>\n    <tr>\n      <th>1146.0</th>\n      <td>0.0</td>\n      <td>1.0</td>\n    </tr>\n    <tr>\n      <th>1145.8</th>\n      <td>0.0</td>\n      <td>301.0</td>\n    </tr>\n    <tr>\n      <th>1145.0</th>\n      <td>0.0</td>\n      <td>68.0</td>\n    </tr>\n    <tr>\n      <th>1144.9</th>\n      <td>0.0</td>\n      <td>67.0</td>\n    </tr>\n    <tr>\n      <th>1144.8</th>\n      <td>0.0</td>\n      <td>10.0</td>\n    </tr>\n    <tr>\n      <th>1144.5</th>\n      <td>0.0</td>\n      <td>280.0</td>\n    </tr>\n    <tr>\n      <th>1144.4</th>\n      <td>0.0</td>\n      <td>50.0</td>\n    </tr>\n    <tr>\n      <th>1144.0</th>\n      <td>0.0</td>\n      <td>178.0</td>\n    </tr>\n    <tr>\n      <th>1143.9</th>\n      <td>0.0</td>\n      <td>31.0</td>\n    </tr>\n    <tr>\n      <th>1143.0</th>\n      <td>0.0</td>\n      <td>1.0</td>\n    </tr>\n    <tr>\n      <th>1142.0</th>\n      <td>0.0</td>\n      <td>2.0</td>\n    </tr>\n    <tr>\n      <th>1141.8</th>\n      <td>0.0</td>\n      <td>50.0</td>\n    </tr>\n    <tr>\n      <th>1141.5</th>\n      <td>0.0</td>\n      <td>1.0</td>\n    </tr>\n    <tr>\n      <th>1141.0</th>\n      <td>0.0</td>\n      <td>15.0</td>\n    </tr>\n    <tr>\n      <th>1140.9</th>\n      <td>0.0</td>\n      <td>1.0</td>\n    </tr>\n    <tr>\n      <th>1140.0</th>\n      <td>0.0</td>\n      <td>193.0</td>\n    </tr>\n    <tr>\n      <th>1139.9</th>\n      <td>0.0</td>\n      <td>500.0</td>\n    </tr>\n    <tr>\n      <th>1139.8</th>\n      <td>0.0</td>\n      <td>15.0</td>\n    </tr>\n    <tr>\n      <th>1138.1</th>\n      <td>57.0</td>\n      <td>0.0</td>\n    </tr>\n    <tr>\n      <th>1138.0</th>\n      <td>115.0</td>\n      <td>0.0</td>\n    </tr>\n    <tr>\n      <th>1136.1</th>\n      <td>40.0</td>\n      <td>0.0</td>\n    </tr>\n    <tr>\n      <th>1136.0</th>\n      <td>158.0</td>\n      <td>0.0</td>\n    </tr>\n    <tr>\n      <th>1134.4</th>\n      <td>8.0</td>\n      <td>0.0</td>\n    </tr>\n    <tr>\n      <th>1134.3</th>\n      <td>532.0</td>\n      <td>0.0</td>\n    </tr>\n    <tr>\n      <th>1134.2</th>\n      <td>20.0</td>\n      <td>0.0</td>\n    </tr>\n    <tr>\n      <th>1134.0</th>\n      <td>45.0</td>\n      <td>0.0</td>\n    </tr>\n    <tr>\n      <th>1133.6</th>\n      <td>56.0</td>\n      <td>0.0</td>\n    </tr>\n    <tr>\n      <th>1133.5</th>\n      <td>200.0</td>\n      <td>0.0</td>\n    </tr>\n    <tr>\n      <th>1133.4</th>\n      <td>246.0</td>\n      <td>0.0</td>\n    </tr>\n    <tr>\n      <th>1132.2</th>\n      <td>50.0</td>\n      <td>0.0</td>\n    </tr>\n    <tr>\n      <th>1130.5</th>\n      <td>478.0</td>\n      <td>0.0</td>\n    </tr>\n    <tr>\n      <th>1130.0</th>\n      <td>410.0</td>\n      <td>0.0</td>\n    </tr>\n    <tr>\n      <th>1128.3</th>\n      <td>10.0</td>\n      <td>0.0</td>\n    </tr>\n    <tr>\n      <th>1128.2</th>\n      <td>50.0</td>\n      <td>0.0</td>\n    </tr>\n    <tr>\n      <th>1128.0</th>\n      <td>1.0</td>\n      <td>0.0</td>\n    </tr>\n    <tr>\n      <th>1127.0</th>\n      <td>100.0</td>\n      <td>0.0</td>\n    </tr>\n    <tr>\n      <th>1125.1</th>\n      <td>500.0</td>\n      <td>0.0</td>\n    </tr>\n    <tr>\n      <th>1125.0</th>\n      <td>40.0</td>\n      <td>0.0</td>\n    </tr>\n    <tr>\n      <th>1124.7</th>\n      <td>122.0</td>\n      <td>0.0</td>\n    </tr>\n    <tr>\n      <th>1124.2</th>\n      <td>10.0</td>\n      <td>0.0</td>\n    </tr>\n    <tr>\n      <th>1124.0</th>\n      <td>120.0</td>\n      <td>0.0</td>\n    </tr>\n    <tr>\n      <th>1122.0</th>\n      <td>1.0</td>\n      <td>0.0</td>\n    </tr>\n    <tr>\n      <th>1121.5</th>\n      <td>2.0</td>\n      <td>0.0</td>\n    </tr>\n    <tr>\n      <th>1120.1</th>\n      <td>500.0</td>\n      <td>0.0</td>\n    </tr>\n    <tr>\n      <th>1120.0</th>\n      <td>1.0</td>\n      <td>0.0</td>\n    </tr>\n    <tr>\n      <th>1117.3</th>\n      <td>100.0</td>\n      <td>0.0</td>\n    </tr>\n    <tr>\n      <th>1117.0</th>\n      <td>3.0</td>\n      <td>0.0</td>\n    </tr>\n    <tr>\n      <th>1115.6</th>\n      <td>1.0</td>\n      <td>0.0</td>\n    </tr>\n    <tr>\n      <th>1115.1</th>\n      <td>500.0</td>\n      <td>0.0</td>\n    </tr>\n    <tr>\n      <th>1115.0</th>\n      <td>55.0</td>\n      <td>0.0</td>\n    </tr>\n    <tr>\n      <th>1111.0</th>\n      <td>100.0</td>\n      <td>0.0</td>\n    </tr>\n    <tr>\n      <th>1110.1</th>\n      <td>500.0</td>\n      <td>0.0</td>\n    </tr>\n    <tr>\n      <th>1110.0</th>\n      <td>100.0</td>\n      <td>0.0</td>\n    </tr>\n    <tr>\n      <th>1104.8</th>\n      <td>19.0</td>\n      <td>0.0</td>\n    </tr>\n    <tr>\n      <th>1100.0</th>\n      <td>20.0</td>\n      <td>0.0</td>\n    </tr>\n    <tr>\n      <th>1090.3</th>\n      <td>5.0</td>\n      <td>0.0</td>\n    </tr>\n    <tr>\n      <th>1088.0</th>\n      <td>63.0</td>\n      <td>0.0</td>\n    </tr>\n    <tr>\n      <th>1079.1</th>\n      <td>2.0</td>\n      <td>0.0</td>\n    </tr>\n    <tr>\n      <th>1071.3</th>\n      <td>10.0</td>\n      <td>0.0</td>\n    </tr>\n    <tr>\n      <th>1064.0</th>\n      <td>55.0</td>\n      <td>0.0</td>\n    </tr>\n    <tr>\n      <th>1050.1</th>\n      <td>5.0</td>\n      <td>0.0</td>\n    </tr>\n    <tr>\n      <th>1049.0</th>\n      <td>10.0</td>\n      <td>0.0</td>\n    </tr>\n    <tr>\n      <th>1023.0</th>\n      <td>1.0</td>\n      <td>0.0</td>\n    </tr>\n    <tr>\n      <th>1000.0</th>\n      <td>100.0</td>\n      <td>0.0</td>\n    </tr>\n  </tbody>\n</table>\n</div>"
     },
     "metadata": {},
     "output_type": "display_data"
    },
    {
     "name": "stdout",
     "output_type": "stream",
     "text": [
      "(83, 2)\n",
      "Wall time: 2.77 s\n"
     ]
    }
   ],
   "source": [
    "%%time\n",
    "# чекаем случай без спреда\n",
    "bds, dom = get_spread_series(cnxn,\n",
    "                             security_code='YNDX',\n",
    "                             end_time='13:00:00')\n",
    "display(bds)\n",
    "display(dom)\n",
    "print(dom.shape)"
   ],
   "metadata": {
    "collapsed": false,
    "pycharm": {
     "name": "#%%\n"
    }
   }
  },
  {
   "cell_type": "code",
   "execution_count": 6,
   "outputs": [
    {
     "name": "stdout",
     "output_type": "stream",
     "text": [
      "YNDX 12:00:00 13:00:00\n"
     ]
    },
    {
     "ename": "KeyboardInterrupt",
     "evalue": "",
     "output_type": "error",
     "traceback": [
      "\u001B[1;31m---------------------------------------------------------------------------\u001B[0m",
      "\u001B[1;31mKeyboardInterrupt\u001B[0m                         Traceback (most recent call last)",
      "\u001B[1;32m<timed exec>\u001B[0m in \u001B[0;36m<module>\u001B[1;34m\u001B[0m\n",
      "\u001B[1;32m~\\AppData\\Local\\Temp/ipykernel_10276/1931895211.py\u001B[0m in \u001B[0;36mget_spread_series\u001B[1;34m(cnxn, security_code, end_time, start_time, freq)\u001B[0m\n\u001B[0;32m     74\u001B[0m \u001B[1;33m\u001B[0m\u001B[0m\n\u001B[0;32m     75\u001B[0m         \u001B[0mraw1\u001B[0m \u001B[1;33m=\u001B[0m \u001B[0mnew_raw\u001B[0m\u001B[1;33m\u001B[0m\u001B[1;33m\u001B[0m\u001B[0m\n\u001B[1;32m---> 76\u001B[1;33m         \u001B[0mraw2\u001B[0m \u001B[1;33m=\u001B[0m \u001B[0mpd\u001B[0m\u001B[1;33m.\u001B[0m\u001B[0mread_sql_query\u001B[0m\u001B[1;33m(\u001B[0m\u001B[0mquery\u001B[0m\u001B[1;33m,\u001B[0m \u001B[0mcnxn\u001B[0m\u001B[1;33m)\u001B[0m\u001B[1;33m\u001B[0m\u001B[1;33m\u001B[0m\u001B[0m\n\u001B[0m\u001B[0;32m     77\u001B[0m \u001B[1;33m\u001B[0m\u001B[0m\n\u001B[0;32m     78\u001B[0m         \u001B[1;32mif\u001B[0m \u001B[1;32mnot\u001B[0m \u001B[0mraw2\u001B[0m\u001B[1;33m.\u001B[0m\u001B[0mempty\u001B[0m\u001B[1;33m:\u001B[0m\u001B[1;33m\u001B[0m\u001B[1;33m\u001B[0m\u001B[0m\n",
      "\u001B[1;32mc:\\users\\tsark\\pycharmprojects\\it_risk_hw2_pyfunctions_orderlog-tsarkov90\\venv\\lib\\site-packages\\pandas\\io\\sql.py\u001B[0m in \u001B[0;36mread_sql_query\u001B[1;34m(sql, con, index_col, coerce_float, params, parse_dates, chunksize, dtype)\u001B[0m\n\u001B[0;32m    441\u001B[0m         \u001B[0mparse_dates\u001B[0m\u001B[1;33m=\u001B[0m\u001B[0mparse_dates\u001B[0m\u001B[1;33m,\u001B[0m\u001B[1;33m\u001B[0m\u001B[1;33m\u001B[0m\u001B[0m\n\u001B[0;32m    442\u001B[0m         \u001B[0mchunksize\u001B[0m\u001B[1;33m=\u001B[0m\u001B[0mchunksize\u001B[0m\u001B[1;33m,\u001B[0m\u001B[1;33m\u001B[0m\u001B[1;33m\u001B[0m\u001B[0m\n\u001B[1;32m--> 443\u001B[1;33m         \u001B[0mdtype\u001B[0m\u001B[1;33m=\u001B[0m\u001B[0mdtype\u001B[0m\u001B[1;33m,\u001B[0m\u001B[1;33m\u001B[0m\u001B[1;33m\u001B[0m\u001B[0m\n\u001B[0m\u001B[0;32m    444\u001B[0m     )\n\u001B[0;32m    445\u001B[0m \u001B[1;33m\u001B[0m\u001B[0m\n",
      "\u001B[1;32mc:\\users\\tsark\\pycharmprojects\\it_risk_hw2_pyfunctions_orderlog-tsarkov90\\venv\\lib\\site-packages\\pandas\\io\\sql.py\u001B[0m in \u001B[0;36mread_query\u001B[1;34m(self, sql, index_col, coerce_float, params, parse_dates, chunksize, dtype)\u001B[0m\n\u001B[0;32m   2114\u001B[0m \u001B[1;33m\u001B[0m\u001B[0m\n\u001B[0;32m   2115\u001B[0m         \u001B[0margs\u001B[0m \u001B[1;33m=\u001B[0m \u001B[0m_convert_params\u001B[0m\u001B[1;33m(\u001B[0m\u001B[0msql\u001B[0m\u001B[1;33m,\u001B[0m \u001B[0mparams\u001B[0m\u001B[1;33m)\u001B[0m\u001B[1;33m\u001B[0m\u001B[1;33m\u001B[0m\u001B[0m\n\u001B[1;32m-> 2116\u001B[1;33m         \u001B[0mcursor\u001B[0m \u001B[1;33m=\u001B[0m \u001B[0mself\u001B[0m\u001B[1;33m.\u001B[0m\u001B[0mexecute\u001B[0m\u001B[1;33m(\u001B[0m\u001B[1;33m*\u001B[0m\u001B[0margs\u001B[0m\u001B[1;33m)\u001B[0m\u001B[1;33m\u001B[0m\u001B[1;33m\u001B[0m\u001B[0m\n\u001B[0m\u001B[0;32m   2117\u001B[0m         \u001B[0mcolumns\u001B[0m \u001B[1;33m=\u001B[0m \u001B[1;33m[\u001B[0m\u001B[0mcol_desc\u001B[0m\u001B[1;33m[\u001B[0m\u001B[1;36m0\u001B[0m\u001B[1;33m]\u001B[0m \u001B[1;32mfor\u001B[0m \u001B[0mcol_desc\u001B[0m \u001B[1;32min\u001B[0m \u001B[0mcursor\u001B[0m\u001B[1;33m.\u001B[0m\u001B[0mdescription\u001B[0m\u001B[1;33m]\u001B[0m\u001B[1;33m\u001B[0m\u001B[1;33m\u001B[0m\u001B[0m\n\u001B[0;32m   2118\u001B[0m \u001B[1;33m\u001B[0m\u001B[0m\n",
      "\u001B[1;32mc:\\users\\tsark\\pycharmprojects\\it_risk_hw2_pyfunctions_orderlog-tsarkov90\\venv\\lib\\site-packages\\pandas\\io\\sql.py\u001B[0m in \u001B[0;36mexecute\u001B[1;34m(self, *args, **kwargs)\u001B[0m\n\u001B[0;32m   2054\u001B[0m             \u001B[0mcur\u001B[0m \u001B[1;33m=\u001B[0m \u001B[0mself\u001B[0m\u001B[1;33m.\u001B[0m\u001B[0mcon\u001B[0m\u001B[1;33m.\u001B[0m\u001B[0mcursor\u001B[0m\u001B[1;33m(\u001B[0m\u001B[1;33m)\u001B[0m\u001B[1;33m\u001B[0m\u001B[1;33m\u001B[0m\u001B[0m\n\u001B[0;32m   2055\u001B[0m         \u001B[1;32mtry\u001B[0m\u001B[1;33m:\u001B[0m\u001B[1;33m\u001B[0m\u001B[1;33m\u001B[0m\u001B[0m\n\u001B[1;32m-> 2056\u001B[1;33m             \u001B[0mcur\u001B[0m\u001B[1;33m.\u001B[0m\u001B[0mexecute\u001B[0m\u001B[1;33m(\u001B[0m\u001B[1;33m*\u001B[0m\u001B[0margs\u001B[0m\u001B[1;33m,\u001B[0m \u001B[1;33m**\u001B[0m\u001B[0mkwargs\u001B[0m\u001B[1;33m)\u001B[0m\u001B[1;33m\u001B[0m\u001B[1;33m\u001B[0m\u001B[0m\n\u001B[0m\u001B[0;32m   2057\u001B[0m             \u001B[1;32mreturn\u001B[0m \u001B[0mcur\u001B[0m\u001B[1;33m\u001B[0m\u001B[1;33m\u001B[0m\u001B[0m\n\u001B[0;32m   2058\u001B[0m         \u001B[1;32mexcept\u001B[0m \u001B[0mException\u001B[0m \u001B[1;32mas\u001B[0m \u001B[0mexc\u001B[0m\u001B[1;33m:\u001B[0m\u001B[1;33m\u001B[0m\u001B[1;33m\u001B[0m\u001B[0m\n",
      "\u001B[1;32m~\\AppData\\Local\\Programs\\Python\\Python37\\lib\\encodings\\utf_8.py\u001B[0m in \u001B[0;36mdecode\u001B[1;34m(input, errors)\u001B[0m\n\u001B[0;32m     13\u001B[0m \u001B[0mencode\u001B[0m \u001B[1;33m=\u001B[0m \u001B[0mcodecs\u001B[0m\u001B[1;33m.\u001B[0m\u001B[0mutf_8_encode\u001B[0m\u001B[1;33m\u001B[0m\u001B[1;33m\u001B[0m\u001B[0m\n\u001B[0;32m     14\u001B[0m \u001B[1;33m\u001B[0m\u001B[0m\n\u001B[1;32m---> 15\u001B[1;33m \u001B[1;32mdef\u001B[0m \u001B[0mdecode\u001B[0m\u001B[1;33m(\u001B[0m\u001B[0minput\u001B[0m\u001B[1;33m,\u001B[0m \u001B[0merrors\u001B[0m\u001B[1;33m=\u001B[0m\u001B[1;34m'strict'\u001B[0m\u001B[1;33m)\u001B[0m\u001B[1;33m:\u001B[0m\u001B[1;33m\u001B[0m\u001B[1;33m\u001B[0m\u001B[0m\n\u001B[0m\u001B[0;32m     16\u001B[0m     \u001B[1;32mreturn\u001B[0m \u001B[0mcodecs\u001B[0m\u001B[1;33m.\u001B[0m\u001B[0mutf_8_decode\u001B[0m\u001B[1;33m(\u001B[0m\u001B[0minput\u001B[0m\u001B[1;33m,\u001B[0m \u001B[0merrors\u001B[0m\u001B[1;33m,\u001B[0m \u001B[1;32mTrue\u001B[0m\u001B[1;33m)\u001B[0m\u001B[1;33m\u001B[0m\u001B[1;33m\u001B[0m\u001B[0m\n\u001B[0;32m     17\u001B[0m \u001B[1;33m\u001B[0m\u001B[0m\n",
      "\u001B[1;31mKeyboardInterrupt\u001B[0m: "
     ]
    }
   ],
   "source": [
    "%%time\n",
    "# чекаем случай со спердом\n",
    "bds, dom = get_spread_series(cnxn,\n",
    "                             security_code='YNDX',\n",
    "                             start_time='12:00:00',\n",
    "                             end_time='13:00:00',\n",
    "                             freq=1000*60) # 1 минута\n",
    "display(bds)\n",
    "display(dom)\n",
    "print(dom.shape)"
   ],
   "metadata": {
    "collapsed": false,
    "pycharm": {
     "name": "#%%\n"
    }
   }
  },
  {
   "cell_type": "code",
   "execution_count": 7,
   "outputs": [
    {
     "name": "stdout",
     "output_type": "stream",
     "text": [
      "YNDX 12:00:00 13:00:00\n"
     ]
    },
    {
     "data": {
      "text/plain": "0.0014926028359454285"
     },
     "metadata": {},
     "output_type": "display_data"
    },
    {
     "data": {
      "text/plain": "          buy   sell\nprice               \n1222.9    0.0  100.0\n1190.3    0.0    2.0\n1189.0    0.0    2.0\n1173.6    0.0   10.0\n1160.0    0.0   50.0\n1156.2    0.0    3.0\n1152.7    0.0    2.0\n1150.5    0.0    1.0\n1150.0    0.0  731.0\n1149.9    0.0  218.0\n1149.7    0.0  159.0\n1149.1    0.0   10.0\n1149.0    0.0   82.0\n1148.3    0.0  170.0\n1148.0    0.0    1.0\n1147.9    0.0   81.0\n1147.8    0.0   23.0\n1147.0    0.0    1.0\n1146.9    0.0    1.0\n1146.0    0.0    1.0\n1145.8    0.0  301.0\n1145.0    0.0   68.0\n1144.9    0.0   67.0\n1144.8    0.0   10.0\n1144.5    0.0  280.0\n1144.4    0.0   50.0\n1144.0    0.0  178.0\n1143.9    0.0   31.0\n1143.0    0.0    1.0\n1142.0    0.0    2.0\n1141.8    0.0   50.0\n1141.5    0.0    1.0\n1141.0    0.0   15.0\n1140.9    0.0    1.0\n1140.0    0.0  193.0\n1139.9    0.0  500.0\n1139.8    0.0   15.0\n1138.1   57.0    0.0\n1138.0  115.0    0.0\n1136.1   40.0    0.0\n1136.0  158.0    0.0\n1134.4    8.0    0.0\n1134.3  532.0    0.0\n1134.2   20.0    0.0\n1134.0   45.0    0.0\n1133.6   56.0    0.0\n1133.5  200.0    0.0\n1133.4  246.0    0.0\n1132.2   50.0    0.0\n1130.5  478.0    0.0\n1130.0  410.0    0.0\n1128.3   10.0    0.0\n1128.2   50.0    0.0\n1128.0    1.0    0.0\n1127.0  100.0    0.0\n1125.1  500.0    0.0\n1125.0   40.0    0.0\n1124.7  122.0    0.0\n1124.2   10.0    0.0\n1124.0  120.0    0.0\n1122.0    1.0    0.0\n1121.5    2.0    0.0\n1120.1  500.0    0.0\n1120.0    1.0    0.0\n1117.3  100.0    0.0\n1117.0    3.0    0.0\n1115.6    1.0    0.0\n1115.1  500.0    0.0\n1115.0   55.0    0.0\n1111.0  100.0    0.0\n1110.1  500.0    0.0\n1110.0  100.0    0.0\n1104.8   19.0    0.0\n1100.0   20.0    0.0\n1090.3    5.0    0.0\n1088.0   63.0    0.0\n1079.1    2.0    0.0\n1071.3   10.0    0.0\n1064.0   55.0    0.0\n1050.1    5.0    0.0\n1049.0   10.0    0.0\n1023.0    1.0    0.0\n1000.0  100.0    0.0",
      "text/html": "<div>\n<style scoped>\n    .dataframe tbody tr th:only-of-type {\n        vertical-align: middle;\n    }\n\n    .dataframe tbody tr th {\n        vertical-align: top;\n    }\n\n    .dataframe thead th {\n        text-align: right;\n    }\n</style>\n<table border=\"1\" class=\"dataframe\">\n  <thead>\n    <tr style=\"text-align: right;\">\n      <th></th>\n      <th>buy</th>\n      <th>sell</th>\n    </tr>\n    <tr>\n      <th>price</th>\n      <th></th>\n      <th></th>\n    </tr>\n  </thead>\n  <tbody>\n    <tr>\n      <th>1222.9</th>\n      <td>0.0</td>\n      <td>100.0</td>\n    </tr>\n    <tr>\n      <th>1190.3</th>\n      <td>0.0</td>\n      <td>2.0</td>\n    </tr>\n    <tr>\n      <th>1189.0</th>\n      <td>0.0</td>\n      <td>2.0</td>\n    </tr>\n    <tr>\n      <th>1173.6</th>\n      <td>0.0</td>\n      <td>10.0</td>\n    </tr>\n    <tr>\n      <th>1160.0</th>\n      <td>0.0</td>\n      <td>50.0</td>\n    </tr>\n    <tr>\n      <th>1156.2</th>\n      <td>0.0</td>\n      <td>3.0</td>\n    </tr>\n    <tr>\n      <th>1152.7</th>\n      <td>0.0</td>\n      <td>2.0</td>\n    </tr>\n    <tr>\n      <th>1150.5</th>\n      <td>0.0</td>\n      <td>1.0</td>\n    </tr>\n    <tr>\n      <th>1150.0</th>\n      <td>0.0</td>\n      <td>731.0</td>\n    </tr>\n    <tr>\n      <th>1149.9</th>\n      <td>0.0</td>\n      <td>218.0</td>\n    </tr>\n    <tr>\n      <th>1149.7</th>\n      <td>0.0</td>\n      <td>159.0</td>\n    </tr>\n    <tr>\n      <th>1149.1</th>\n      <td>0.0</td>\n      <td>10.0</td>\n    </tr>\n    <tr>\n      <th>1149.0</th>\n      <td>0.0</td>\n      <td>82.0</td>\n    </tr>\n    <tr>\n      <th>1148.3</th>\n      <td>0.0</td>\n      <td>170.0</td>\n    </tr>\n    <tr>\n      <th>1148.0</th>\n      <td>0.0</td>\n      <td>1.0</td>\n    </tr>\n    <tr>\n      <th>1147.9</th>\n      <td>0.0</td>\n      <td>81.0</td>\n    </tr>\n    <tr>\n      <th>1147.8</th>\n      <td>0.0</td>\n      <td>23.0</td>\n    </tr>\n    <tr>\n      <th>1147.0</th>\n      <td>0.0</td>\n      <td>1.0</td>\n    </tr>\n    <tr>\n      <th>1146.9</th>\n      <td>0.0</td>\n      <td>1.0</td>\n    </tr>\n    <tr>\n      <th>1146.0</th>\n      <td>0.0</td>\n      <td>1.0</td>\n    </tr>\n    <tr>\n      <th>1145.8</th>\n      <td>0.0</td>\n      <td>301.0</td>\n    </tr>\n    <tr>\n      <th>1145.0</th>\n      <td>0.0</td>\n      <td>68.0</td>\n    </tr>\n    <tr>\n      <th>1144.9</th>\n      <td>0.0</td>\n      <td>67.0</td>\n    </tr>\n    <tr>\n      <th>1144.8</th>\n      <td>0.0</td>\n      <td>10.0</td>\n    </tr>\n    <tr>\n      <th>1144.5</th>\n      <td>0.0</td>\n      <td>280.0</td>\n    </tr>\n    <tr>\n      <th>1144.4</th>\n      <td>0.0</td>\n      <td>50.0</td>\n    </tr>\n    <tr>\n      <th>1144.0</th>\n      <td>0.0</td>\n      <td>178.0</td>\n    </tr>\n    <tr>\n      <th>1143.9</th>\n      <td>0.0</td>\n      <td>31.0</td>\n    </tr>\n    <tr>\n      <th>1143.0</th>\n      <td>0.0</td>\n      <td>1.0</td>\n    </tr>\n    <tr>\n      <th>1142.0</th>\n      <td>0.0</td>\n      <td>2.0</td>\n    </tr>\n    <tr>\n      <th>1141.8</th>\n      <td>0.0</td>\n      <td>50.0</td>\n    </tr>\n    <tr>\n      <th>1141.5</th>\n      <td>0.0</td>\n      <td>1.0</td>\n    </tr>\n    <tr>\n      <th>1141.0</th>\n      <td>0.0</td>\n      <td>15.0</td>\n    </tr>\n    <tr>\n      <th>1140.9</th>\n      <td>0.0</td>\n      <td>1.0</td>\n    </tr>\n    <tr>\n      <th>1140.0</th>\n      <td>0.0</td>\n      <td>193.0</td>\n    </tr>\n    <tr>\n      <th>1139.9</th>\n      <td>0.0</td>\n      <td>500.0</td>\n    </tr>\n    <tr>\n      <th>1139.8</th>\n      <td>0.0</td>\n      <td>15.0</td>\n    </tr>\n    <tr>\n      <th>1138.1</th>\n      <td>57.0</td>\n      <td>0.0</td>\n    </tr>\n    <tr>\n      <th>1138.0</th>\n      <td>115.0</td>\n      <td>0.0</td>\n    </tr>\n    <tr>\n      <th>1136.1</th>\n      <td>40.0</td>\n      <td>0.0</td>\n    </tr>\n    <tr>\n      <th>1136.0</th>\n      <td>158.0</td>\n      <td>0.0</td>\n    </tr>\n    <tr>\n      <th>1134.4</th>\n      <td>8.0</td>\n      <td>0.0</td>\n    </tr>\n    <tr>\n      <th>1134.3</th>\n      <td>532.0</td>\n      <td>0.0</td>\n    </tr>\n    <tr>\n      <th>1134.2</th>\n      <td>20.0</td>\n      <td>0.0</td>\n    </tr>\n    <tr>\n      <th>1134.0</th>\n      <td>45.0</td>\n      <td>0.0</td>\n    </tr>\n    <tr>\n      <th>1133.6</th>\n      <td>56.0</td>\n      <td>0.0</td>\n    </tr>\n    <tr>\n      <th>1133.5</th>\n      <td>200.0</td>\n      <td>0.0</td>\n    </tr>\n    <tr>\n      <th>1133.4</th>\n      <td>246.0</td>\n      <td>0.0</td>\n    </tr>\n    <tr>\n      <th>1132.2</th>\n      <td>50.0</td>\n      <td>0.0</td>\n    </tr>\n    <tr>\n      <th>1130.5</th>\n      <td>478.0</td>\n      <td>0.0</td>\n    </tr>\n    <tr>\n      <th>1130.0</th>\n      <td>410.0</td>\n      <td>0.0</td>\n    </tr>\n    <tr>\n      <th>1128.3</th>\n      <td>10.0</td>\n      <td>0.0</td>\n    </tr>\n    <tr>\n      <th>1128.2</th>\n      <td>50.0</td>\n      <td>0.0</td>\n    </tr>\n    <tr>\n      <th>1128.0</th>\n      <td>1.0</td>\n      <td>0.0</td>\n    </tr>\n    <tr>\n      <th>1127.0</th>\n      <td>100.0</td>\n      <td>0.0</td>\n    </tr>\n    <tr>\n      <th>1125.1</th>\n      <td>500.0</td>\n      <td>0.0</td>\n    </tr>\n    <tr>\n      <th>1125.0</th>\n      <td>40.0</td>\n      <td>0.0</td>\n    </tr>\n    <tr>\n      <th>1124.7</th>\n      <td>122.0</td>\n      <td>0.0</td>\n    </tr>\n    <tr>\n      <th>1124.2</th>\n      <td>10.0</td>\n      <td>0.0</td>\n    </tr>\n    <tr>\n      <th>1124.0</th>\n      <td>120.0</td>\n      <td>0.0</td>\n    </tr>\n    <tr>\n      <th>1122.0</th>\n      <td>1.0</td>\n      <td>0.0</td>\n    </tr>\n    <tr>\n      <th>1121.5</th>\n      <td>2.0</td>\n      <td>0.0</td>\n    </tr>\n    <tr>\n      <th>1120.1</th>\n      <td>500.0</td>\n      <td>0.0</td>\n    </tr>\n    <tr>\n      <th>1120.0</th>\n      <td>1.0</td>\n      <td>0.0</td>\n    </tr>\n    <tr>\n      <th>1117.3</th>\n      <td>100.0</td>\n      <td>0.0</td>\n    </tr>\n    <tr>\n      <th>1117.0</th>\n      <td>3.0</td>\n      <td>0.0</td>\n    </tr>\n    <tr>\n      <th>1115.6</th>\n      <td>1.0</td>\n      <td>0.0</td>\n    </tr>\n    <tr>\n      <th>1115.1</th>\n      <td>500.0</td>\n      <td>0.0</td>\n    </tr>\n    <tr>\n      <th>1115.0</th>\n      <td>55.0</td>\n      <td>0.0</td>\n    </tr>\n    <tr>\n      <th>1111.0</th>\n      <td>100.0</td>\n      <td>0.0</td>\n    </tr>\n    <tr>\n      <th>1110.1</th>\n      <td>500.0</td>\n      <td>0.0</td>\n    </tr>\n    <tr>\n      <th>1110.0</th>\n      <td>100.0</td>\n      <td>0.0</td>\n    </tr>\n    <tr>\n      <th>1104.8</th>\n      <td>19.0</td>\n      <td>0.0</td>\n    </tr>\n    <tr>\n      <th>1100.0</th>\n      <td>20.0</td>\n      <td>0.0</td>\n    </tr>\n    <tr>\n      <th>1090.3</th>\n      <td>5.0</td>\n      <td>0.0</td>\n    </tr>\n    <tr>\n      <th>1088.0</th>\n      <td>63.0</td>\n      <td>0.0</td>\n    </tr>\n    <tr>\n      <th>1079.1</th>\n      <td>2.0</td>\n      <td>0.0</td>\n    </tr>\n    <tr>\n      <th>1071.3</th>\n      <td>10.0</td>\n      <td>0.0</td>\n    </tr>\n    <tr>\n      <th>1064.0</th>\n      <td>55.0</td>\n      <td>0.0</td>\n    </tr>\n    <tr>\n      <th>1050.1</th>\n      <td>5.0</td>\n      <td>0.0</td>\n    </tr>\n    <tr>\n      <th>1049.0</th>\n      <td>10.0</td>\n      <td>0.0</td>\n    </tr>\n    <tr>\n      <th>1023.0</th>\n      <td>1.0</td>\n      <td>0.0</td>\n    </tr>\n    <tr>\n      <th>1000.0</th>\n      <td>100.0</td>\n      <td>0.0</td>\n    </tr>\n  </tbody>\n</table>\n</div>"
     },
     "metadata": {},
     "output_type": "display_data"
    },
    {
     "name": "stdout",
     "output_type": "stream",
     "text": [
      "(83, 2)\n",
      "Wall time: 1.92 s\n"
     ]
    }
   ],
   "source": [
    "%%time\n",
    "# случай для особо умных, которые решили задать время и нулевую частоту\n",
    "bds, dom = get_spread_series(cnxn,\n",
    "                  security_code='YNDX',\n",
    "                  start_time='12:00:00',\n",
    "                  end_time='13:00:00',\n",
    "                  freq=0)\n",
    "display(bds)\n",
    "display(dom)\n",
    "print(dom.shape)"
   ],
   "metadata": {
    "collapsed": false,
    "pycharm": {
     "name": "#%%\n"
    }
   }
  },
  {
   "cell_type": "code",
   "execution_count": null,
   "outputs": [
    {
     "name": "stdout",
     "output_type": "stream",
     "text": [
      "YNDX 12:00:00 14:00:00\n"
     ]
    }
   ],
   "source": [
    "%%time\n",
    "# чекаем случай со спердом\n",
    "bds, dom = get_spread_series(cnxn,\n",
    "                             security_code='YNDX',\n",
    "                             start_time='12:00:00',\n",
    "                             end_time='14:00:00',\n",
    "                             freq=1000*60*15) # 15 минут\n",
    "display(bds)\n",
    "# display(dom)\n",
    "# print(dom.shape)"
   ],
   "metadata": {
    "collapsed": false,
    "pycharm": {
     "name": "#%%\n",
     "is_executing": true
    }
   }
  },
  {
   "cell_type": "code",
   "execution_count": 8,
   "outputs": [],
   "source": [],
   "metadata": {
    "collapsed": false,
    "pycharm": {
     "name": "#%%"
    }
   }
  }
 ],
 "metadata": {
  "kernelspec": {
   "display_name": "Python 3",
   "language": "python",
   "name": "python3"
  },
  "language_info": {
   "codemirror_mode": {
    "name": "ipython",
    "version": 2
   },
   "file_extension": ".py",
   "mimetype": "text/x-python",
   "name": "python",
   "nbconvert_exporter": "python",
   "pygments_lexer": "ipython2",
   "version": "2.7.6"
  }
 },
 "nbformat": 4,
 "nbformat_minor": 0
}